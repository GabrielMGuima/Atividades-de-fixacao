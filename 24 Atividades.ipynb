{
 "cells": [
  {
   "cell_type": "code",
   "execution_count": null,
   "metadata": {},
   "outputs": [],
   "source": [
    "#Exercício  1\n",
    "#Crie um script Python que leia o nome de uma pessoa e mostre uma\n",
    "# mensagem de boas-vindas de acordo com o valor digita.\n",
    "\n",
    "nome = (input('Qual Seu Nome ?')) \n",
    "resposta = print ('òla', (nome),'Prazer Em te conhecer!') "
   ]
  },
  {
   "cell_type": "code",
   "execution_count": 1,
   "metadata": {},
   "outputs": [
    {
     "name": "stdout",
     "output_type": "stream",
     "text": [
      "Então você nasceu 10 De 08 De 2000 Correto ?\n"
     ]
    }
   ],
   "source": [
    "#Exercício  2\n",
    "# Crie um script Python que leia o dia, o mês e o ano de nascimento\n",
    "# de uma pessoa e mostre uma mensagem com a data formatada\n",
    "\n",
    "dia = (input('Qual dia Você Nasceu ?'))\n",
    "mes = (input('Qual Mês você nasceu ?'))\n",
    "ano = (input('É qual ano você Nasceu ?'))\n",
    "resposta_2 = print ('Então você nasceu', (dia),'De', (mes),'De',(ano),'Correto ?')"
   ]
  },
  {
   "cell_type": "code",
   "execution_count": null,
   "metadata": {},
   "outputs": [],
   "source": [
    "#Exercício  3\n",
    "#Crie um script Python que leia dois numero e tente mostrar a soma entre eles\n",
    "\n",
    "M = print('Vou Fazer uma soma de + Pra você')\n",
    "n1 = int(input('Me Diga Um numero:'))\n",
    "n2 = int(input('Me diga Outro Numero:'))\n",
    "soma = ((n1) + (n2))\n",
    "print('O Resultado é',(soma))"
   ]
  },
  {
   "cell_type": "code",
   "execution_count": null,
   "metadata": {},
   "outputs": [],
   "source": [
    "#Exercício  4\n",
    "# Faça um script que conte de 5 até 20\n",
    "\n",
    "for num in range(5,21):\n",
    "  print(num)"
   ]
  },
  {
   "cell_type": "code",
   "execution_count": null,
   "metadata": {},
   "outputs": [],
   "source": [
    "#Exercício  5\n",
    "#Remova Da Lista o item 'F'\n",
    "\n",
    "letras = ['a','b','c','d','e','f']\n",
    "letras.remove('f')\n",
    "print(letras) "
   ]
  },
  {
   "cell_type": "code",
   "execution_count": null,
   "metadata": {},
   "outputs": [],
   "source": [
    "#Exercício  6\n",
    "#Faça um script que diga a media de um aluno\n",
    "# Com a quantidade de provas requisitadas pelo aluno\n",
    "# e com o peso de cada prova\n",
    "\n",
    "Quantidade_nota = int(input('Quantas Notas tem ?'))\n",
    "numerador = 0\n",
    "denominador = 0\n",
    "for Num in range(Quantidade_nota):\n",
    "    nota = float(input('Qual é a Sua Nota?'))\n",
    "    peso = int(input('Qual é o peso da sua nota?'))\n",
    "\n",
    "    numerador = numerador + nota*peso\n",
    "    denominador = denominador + peso\n",
    "\n",
    "print('A média é: {:.2f}'.format(numerador/denominador))"
   ]
  },
  {
   "cell_type": "code",
   "execution_count": null,
   "metadata": {},
   "outputs": [],
   "source": [
    "#Exercício  7\n",
    "# Adicione Baunilha e remova chocolate da lista de sabores abaixo\n",
    "# [Chocolate,Abacaxi,Laranja,Morango]\n",
    "\n",
    "sabores = ['chocolate','abacaxi','laranja','morango']\n",
    "print(f'Primeira Lista = {sabores}')\n",
    "sabores.append('Baunilha')\n",
    "print(f'Segunda Lista = {sabores}')\n",
    "sabores.remove('chocolate')\n",
    "print(f'lista Final = {sabores}')"
   ]
  },
  {
   "cell_type": "code",
   "execution_count": null,
   "metadata": {},
   "outputs": [],
   "source": [
    "#Exercício  8\n",
    "#Faça Um script contando de 1 a 30 aonde todos os divisores de 3 print Fizz\n",
    "# E todos os divisores de 5 print Buzz\n",
    "# E os que dividem pelos 3 e 5 print FizzBuzz\n",
    "\n",
    "for num in range(1, 31):\n",
    " if num %3 ==0 and num %5 ==0: print (f'{num} = FizzBuzz')\n",
    " elif num %3 == 0: print (f'{num}  = Fizz')\n",
    " elif num %5 == 0: print (f'{num}  = Buzz')\n",
    " else: print (f'{num}')"
   ]
  },
  {
   "cell_type": "code",
   "execution_count": null,
   "metadata": {},
   "outputs": [],
   "source": [
    "#Exercício 9\n",
    "# Faça um scrip que faça a soma de desconto de um produto\n",
    "\n",
    "produto = 'Tv-50p'\n",
    "preço = 2600\n",
    "total = preço +(preço*10/100)\n",
    "print(total)"
   ]
  },
  {
   "cell_type": "code",
   "execution_count": null,
   "metadata": {},
   "outputs": [],
   "source": [
    "#Exercício 10\n",
    "# Crie um programa onde o usuário digita nota de P1 e P2, \n",
    "# Se a nota for maior ou igual a 7, ele está aprovado.\n",
    "# Se for abaixo, está reprovado\n",
    "\n",
    "nota_p1 = float(input(\"Digite a nota da p1:\"))\n",
    "nota_p2 = float(input(\"Digite a nota da p2:\"))\n",
    "nota = ((nota_p1 + nota_p2 /2 ))\n",
    "if nota >= 7:\n",
    "    print(\"você já esta aprovado\")\n",
    "\n",
    "else:\n",
    "    print(\"Poxa você reprovou estude mais\")\n"
   ]
  },
  {
   "cell_type": "code",
   "execution_count": null,
   "metadata": {},
   "outputs": [],
   "source": [
    "#Exercício 11\n",
    "# Crie um programa que pergunta o numero \n",
    "#de vendas para três vendedores.\n",
    "# vendedor_1 = 700 vendedor_2 = 1200 vendedor_3 = 2000\n",
    "# meta = 100\n",
    "# Se for abaixo da meta. O salário vai manter o mesmo.\n",
    "# Se for igual entre 100 a 200, o funcionário receberá \n",
    "#10% em cima do seu salário de bonus.\n",
    "# se for acima de de 200 o functionário vai \n",
    "#receber 40% em cima de seu salário de bonus  \n",
    "    \n",
    "# Definindo a função para calcular o bônus\n",
    "def calcular_bonus(vendas, salario):\n",
    "    meta = 100\n",
    "    if vendas < meta:\n",
    "        return salario\n",
    "    elif 100 <= vendas <= 200:\n",
    "        return salario + (salario * 0.10)\n",
    "    elif vendas > 200:\n",
    "        return salario + (salario * 0.40)\n",
    "\n",
    "# Perguntando o número de vendas e salário para cada vendedor\n",
    "vendedor_1_vendas = int(input(\"Digite o número de vendas do vendedor 1: \"))\n",
    "vendedor_1_salario = int(input(\"Digite o salário do vendedor 1: \"))\n",
    "vendedor_2_vendas = int(input(\"Digite o número de vendas do vendedor 2: \"))\n",
    "vendedor_2_salario = int(input(\"Digite o salário do vendedor 2: \"))\n",
    "vendedor_3_vendas = int(input(\"Digite o número de vendas do vendedor 3: \"))\n",
    "vendedor_3_salario = int(input(\"Digite o salário do vendedor 3: \"))\n",
    "\n",
    "# Calculando o salário total para cada vendedor\n",
    "salario_total_1 = calcular_bonus(vendedor_1_vendas, vendedor_1_salario)\n",
    "salario_total_2 = calcular_bonus(vendedor_2_vendas, vendedor_2_salario)\n",
    "salario_total_3 = calcular_bonus(vendedor_3_vendas, vendedor_3_salario)\n",
    "\n",
    "# Exibindo os resultados\n",
    "print(f\"O salário total do vendedor 1 é: {salario_total_1}\")\n",
    "print(f\"O salário total do vendedor 2 é: {salario_total_2}\")\n",
    "print(f\"O salário total do vendedor 3 é: {salario_total_3}\")\n"
   ]
  },
  {
   "cell_type": "code",
   "execution_count": null,
   "metadata": {},
   "outputs": [],
   "source": [
    "#Exercício 12\n",
    "# Crie um programa onde o usuário digita um numero. Se for par, será informado\n",
    "# que é par. Se for impar, será informado que é impar\n",
    "\n",
    "numero = int(input(\"Me diga um número qualquer\"))\n",
    "resultado = numero % 2\n",
    "if resultado == 0:\n",
    "    print(\"Esse Numero é Impar\")\n",
    "else:\n",
    "    print(\"Esse Numero e Par\")"
   ]
  },
  {
   "cell_type": "code",
   "execution_count": null,
   "metadata": {},
   "outputs": [],
   "source": [
    "#Exercício 13\n",
    "#Crie 3 formas de aleatorizar um numero\n",
    "\n",
    "import random\n",
    "\n",
    "num = random.randint(1,50) #Numero Entre (A) e (B)\n",
    "print('Numero = {}'.format(num))\n",
    "\n",
    "num_2 = random.randrange(50,1000) #Numero Entre (A) e (B)\n",
    "print('Numero = {}'.format(num_2))\n",
    "\n",
    "num_3 = random.random() # Qualquer Numero\n",
    "print('Numero = {}'.format(num_3))\n"
   ]
  },
  {
   "cell_type": "code",
   "execution_count": null,
   "metadata": {},
   "outputs": [],
   "source": [
    "#Exercício 14\n",
    "#Crie um scrip que pergunte nome idade salario e sexo do usuario e deixe um elogio\n",
    "# utilizando while\n",
    "\n",
    "while True:\n",
    " nome = input('Digite seu nome =>')\n",
    " if len (nome) >=3:print(f'Seu Nome é {nome}')\n",
    " if len (nome) <=2:continue\n",
    " else:break\n",
    "\n",
    "idade = int(input('Digite sua idade =>')) \n",
    "print(f'Você tem {idade} anos')\n",
    "\n",
    "while True:\n",
    "  salario = float(input('Digite seu salário =>'))\n",
    "  if salario >=0:print (f'Seu Salario é = {salario}')\n",
    "  if salario >=0:break\n",
    "  else: continue\n",
    "\n",
    "while True:\n",
    " sexo = input('Digite seu sexo biológico(f=Femenino) (m=Masculino)')\n",
    " if sexo == 'f' or sexo =='F': print ('Você é uma linda Mulher <3')\n",
    " if sexo == 'm' or sexo == 'M': print('Você é um bonito Homen <3')\n",
    " if sexo == 'f' or sexo =='F' or sexo == 'm' or sexo == 'M':break\n",
    " \n",
    " else: continue"
   ]
  },
  {
   "cell_type": "code",
   "execution_count": null,
   "metadata": {},
   "outputs": [],
   "source": [
    "#Exercício 15\n",
    "# Crie Um scrip que precise enserir a senha corretamente \n",
    "# e que tenha limites de tentativas \n",
    "\n",
    "tentativas = 3\n",
    "while True:\n",
    "    senha = input('Digite Sua Senha')\n",
    "    if senha == 'correto' or senha == '1234' or senha == '6534':\n",
    "      print('Seja bem vindo')\n",
    "      break\n",
    "    else: tentativas -=1 \n",
    "    print('Você Errou')\n",
    "    if tentativas == 0:print('Senha Bloqueada por excesso de tentativas.')\n",
    "    if tentativas == 0:break"
   ]
  },
  {
   "cell_type": "code",
   "execution_count": null,
   "metadata": {},
   "outputs": [],
   "source": [
    "#Exercício 16\n",
    "# Crie um scrip que crie uma senha com números aleatórios\n",
    "# a quantidade de números deve ser definida pelo usuário \n",
    "\n",
    "import string\n",
    "import random\n",
    "senha = []\n",
    "num = string.digits\n",
    "numeros = int(input('é quantos numeros ? =>'))\n",
    "for digito in range (numeros):\n",
    "    aleatorio = random.choice(num)\n",
    "    senha += aleatorio\n",
    "senha_aleatoria = random.shuffle(senha)\n",
    "print(''.join(senha))"
   ]
  },
  {
   "cell_type": "code",
   "execution_count": null,
   "metadata": {},
   "outputs": [],
   "source": [
    "#Exercício 17\n",
    "# Crie um scrip que crie uma senha com números,letras e caracteres aleatórios\n",
    "# a quantidade de números,letras e caracteres devem ser definidos pelo usuário \n",
    "\n",
    "import string\n",
    "import random\n",
    "senha = []\n",
    "num = string.digits\n",
    "letra = string.ascii_lowercase\n",
    "letra_m = string.ascii_uppercase\n",
    "carc = string.punctuation\n",
    "letras = int(input('Quantas  letras você quer na sua senha =>'))\n",
    "caracteres = int(input('Quantos caractesres você vai querer na sua senha =>'))\n",
    "numeros = int(input('é quantos numeros ? =>'))\n",
    "for digito in range (numeros):\n",
    "    aleatorio1 = random.choice(num)\n",
    "    senha += aleatorio1\n",
    "for digito in range (letras):\n",
    "    aleatorio2 = random.choice(letra)\n",
    "    senha += aleatorio2\n",
    "\n",
    "for digito in range (caracteres):\n",
    "    aleatorio4 = random.choice(carc)\n",
    "    senha += aleatorio4\n",
    "    \n",
    "aleatorio_senha = random.shuffle(senha)\n",
    "\n",
    "print(''.join(senha))"
   ]
  },
  {
   "cell_type": "code",
   "execution_count": null,
   "metadata": {},
   "outputs": [],
   "source": [
    "#Exercício 18\n",
    "#Faça um escript que calcule Juros Compostos\n",
    "\n",
    "def calc_juros_compostos(principal, periodo, juros):\n",
    "    \"\"\"Calculadora de Juros Compostos\"\"\"\n",
    "    montante = principal * ((1 + juros/100) ** periodo)\n",
    "    juros = montante - principal\n",
    "    print(f'O montante final foi de: R$ {montante:.2f}\\nOs juros foram de: R$ {juros:.2f}')\n",
    "\n",
    "# Exemplo de uso\n",
    "calc_juros_compostos(5000, 12, 4.5)"
   ]
  },
  {
   "cell_type": "code",
   "execution_count": null,
   "metadata": {},
   "outputs": [],
   "source": [
    "#Exercício 19\n",
    "#Faça um escript que calcule Juros de um investimento do usuário\n",
    "#Sem usar função\n",
    "# e que seja indicado pelo usuário valor inicial, % de rentabilidade e mesês de duração \n",
    "\n",
    "vi = float(input('Valor inicial: '))# Valor inicial aplicado\n",
    "\n",
    "i = float(input('Rentabilidade mensal: '))# Rentabilidade mensal, em %\n",
    "i = i / 100\n",
    "\n",
    "m = int(input('Meses que vai deixar rendendo: ')) # Tempo de investimento\n",
    "\n",
    "vf = vi * (1 + i) ** m\n",
    "print(f'Valor após {m} meses: R$ {vf:.2f}')"
   ]
  },
  {
   "cell_type": "code",
   "execution_count": null,
   "metadata": {},
   "outputs": [],
   "source": [
    "#Exercício 20\n",
    "#Crie um programa onde o usuário digita o valor_a e o valor_b a) Realize a subtração dos valores b) Realize a divisão dos valores\n",
    "\n",
    "Numero1 = float(input('Digite Um Número ='))\n",
    "Numero2 = float(input('Digite Outro Número ='))\n",
    "print('Sua Subtração é ={} e Sua Divisão é ={}'.format((Numero1-Numero2),(Numero1/Numero2)))\n"
   ]
  },
  {
   "cell_type": "code",
   "execution_count": null,
   "metadata": {},
   "outputs": [],
   "source": [
    "#Exercício 21\n",
    "#crie um scrip que pergunte nome e preço de um produto\n",
    "# E faça a soma de 40% de desconto \n",
    "\n",
    "produto = str(input('Digite o Nome do seu produto = '))\n",
    "preço = float(input('Digite o Preço'))\n",
    "print('O Seu Produto {} Com 40% de Desconto fica {}'.format(produto,(preço-preço*40/100)))"
   ]
  },
  {
   "cell_type": "code",
   "execution_count": 1,
   "metadata": {},
   "outputs": [
    {
     "name": "stdout",
     "output_type": "stream",
     "text": [
      "3 O Ataque Falhou\n"
     ]
    }
   ],
   "source": [
    "#Exercício 22\n",
    "#Crie um programa que imite uma rolagem de dados de 20 lados.\n",
    "#Se for maior ou igual 12, deverá ser escrito:\n",
    "#Ataque bem sucedido\n",
    "#Caso contrário:\n",
    "#Errou o ataque.\n",
    "\n",
    "import random \n",
    "\n",
    "n = random.randint(1,20)\n",
    "if n >=12: print(n,'Ataque Bem Sucedido')\n",
    "else: print (n,'O Ataque Falhou')"
   ]
  },
  {
   "cell_type": "code",
   "execution_count": null,
   "metadata": {},
   "outputs": [],
   "source": [
    "#Exercício 23\n",
    "#Julho de 2024. Vai passar o filme DeadPool e Wolverine. Para poder assistir, deve ter idade maior ou igual 16 anos.\n",
    "#Crie um programa que pergunte ao usuário sua idade.\n",
    "#Se a pessoa tiver a idade exigida, ou esteja acompanhado de um maior de idade, forneça a mensagem:\n",
    "#Bem vindo!! Desejo uma excelente experiência!!\n",
    "#Caso a idade seja inferior a 16 e não esteja acompanhado de um maior de idade.\n",
    "#A resposta deverá ser: Infelizmente você não poderá assistir esse filme!!\n",
    "\n",
    "idade = int(input('Qual Sua Idade'))\n",
    "ap = str(input('Você Está Acompanhado ?'))\n",
    "if idade >=16 or ap =='sim': print('Tenha Um Bom Filme') \n",
    "else: print ('Você Não Pode Entrar')"
   ]
  },
  {
   "cell_type": "code",
   "execution_count": null,
   "metadata": {},
   "outputs": [],
   "source": [
    "#Exercício 24\n",
    "#Crie Um Scrip que faça a soma de um ano bissexto\n",
    "\n",
    "ano = int(input('Digite O Ano:'))\n",
    "if ano % 4==0:\n",
    "    if ano % 100 ==0:\n",
    "        if ano % 400==0:\n",
    "            print('Este é um ano bissexto .')\n",
    "else: print('Este não é um ano bissexto')"
   ]
  }
 ],
 "metadata": {
  "kernelspec": {
   "display_name": ".env",
   "language": "python",
   "name": "python3"
  },
  "language_info": {
   "codemirror_mode": {
    "name": "ipython",
    "version": 3
   },
   "file_extension": ".py",
   "mimetype": "text/x-python",
   "name": "python",
   "nbconvert_exporter": "python",
   "pygments_lexer": "ipython3",
   "version": "3.8.10"
  }
 },
 "nbformat": 4,
 "nbformat_minor": 2
}
