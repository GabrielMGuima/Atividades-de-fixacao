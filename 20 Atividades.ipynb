{
 "cells": [
  {
   "cell_type": "code",
   "execution_count": null,
   "metadata": {},
   "outputs": [],
   "source": [
    "# 1. Escreva um programa que imprime \"Olá, Mundo!\" na tela.\n",
    "\n",
    "print('Olá, Mundo!')"
   ]
  },
  {
   "cell_type": "code",
   "execution_count": null,
   "metadata": {},
   "outputs": [],
   "source": [
    "# 2. Soma de Dois Números Peça ao usuário para digitar dois números e imprima a soma deles.\n",
    "\n",
    "Num1 = float(input('Digite Um Número'))\n",
    "Num2 = float(input('Digite Outro Número'))\n",
    "soma = Num1 + Num2\n",
    "print(f'O Resultado da soma entre eles e {soma}')"
   ]
  },
  {
   "cell_type": "code",
   "execution_count": null,
   "metadata": {},
   "outputs": [],
   "source": [
    "# 3. Verificar Par ou Ímpar Peça ao usuário para digitar um número inteiro e informe se o número é par ou ímpar.\n",
    "\n",
    "Num1 = float(input('Digite Um Número'))\n",
    "soma = Num1 %2\n",
    "if soma == 1: print('Impar')\n",
    "if soma == 0: print('Par')"
   ]
  },
  {
   "cell_type": "code",
   "execution_count": null,
   "metadata": {},
   "outputs": [],
   "source": [
    "# 4. Calculadora Simples Crie um programa que peça dois números e a operação desejada (+, -, *, /) e exiba o resultado.\n",
    "\n",
    "Num1 = float(input('Digite Um Número'))\n",
    "Num2 = float(input('Digite Outro Número'))\n",
    "Operação = input('Qual Operação Você deseja + ,- ,* ,/')\n",
    "if Operação == '+' : print(f'A Soma Entre eles é {Num1+Num2}')\n",
    "elif Operação == '-': print(f'A Subtração entre eles é {Num1-Num2}')\n",
    "elif Operação == '*': print(f'A Multiplicação entre eles é {Num1*Num2}')\n",
    "elif Operação == '/': print(f'A Divisão entre eles é {Num1/Num2}')\n"
   ]
  },
  {
   "cell_type": "code",
   "execution_count": null,
   "metadata": {},
   "outputs": [],
   "source": [
    "# 5. Média de Notas Peça ao usuário para digitar três notas e calcule a média delas.\n",
    "Quantidade_nota = int(input('Quantas Notas tem ?'))\n",
    "numerador = 0\n",
    "denominador = 0\n",
    "for Num in range(Quantidade_nota):\n",
    "    nota = float(input('Qual é a Sua Nota?'))\n",
    "    peso = int(input('Qual é o peso da sua nota?'))\n",
    "\n",
    "    numerador = numerador + nota*peso\n",
    "    denominador = denominador + peso\n",
    "\n",
    "print('A média é: {:.2f}'.format(numerador/denominador))"
   ]
  },
  {
   "cell_type": "code",
   "execution_count": null,
   "metadata": {},
   "outputs": [],
   "source": [
    "# 6. Converter Celsius para Fahrenheit Escreva um programa que converta uma temperatura de graus Celsius para Fahrenheit\n",
    "\n",
    "temperatura_celsius = float(input('Digite a temperatura'))\n",
    "fahrenheit = temperatura_celsius * (9 / 5) + 32\n",
    "temperatura_fahrenheit = fahrenheit\n",
    "\n",
    "print(f\"{temperatura_celsius}°C é igual a {temperatura_fahrenheit}°F\")\n"
   ]
  },
  {
   "cell_type": "code",
   "execution_count": null,
   "metadata": {},
   "outputs": [],
   "source": [
    "# 7. Fatorial de um Número Peça ao usuário para digitar um número e calcule o fatorial desse número.\n",
    "numero = int(input(\"Digite um número para fatorar: \"))\n",
    "fatores = []\n",
    "divisor = 2\n",
    "while numero > 1:\n",
    "    while numero % divisor == 0:\n",
    "        fatores.append(divisor)\n",
    "        numero //= divisor\n",
    "    divisor += 1\n",
    "print(f\"Os fatores primos são: {fatores}\")"
   ]
  },
  {
   "cell_type": "code",
   "execution_count": null,
   "metadata": {},
   "outputs": [],
   "source": [
    "# 8. Contagem de Números Ímpares Escreva um programa que conta e imprime todos os números ímpares entre 1 e 100.\n",
    "for numero in range(0, 101):\n",
    "    if numero % 2 == 0:\n",
    "        print(f'{numero} = Par')\n",
    "    else:\n",
    "        print(f'{numero} = Ímpar')\n",
    "    # Fica melhor de visualizar ultilizando o Python fora do Modo Jupiter"
   ]
  },
  {
   "cell_type": "code",
   "execution_count": null,
   "metadata": {},
   "outputs": [],
   "source": [
    "# 9. Verificar Número Primo Peça ao usuário para digitar um número e verifique se ele é primo.\n",
    "\n",
    "numero = int(input('Digite Um Número'))\n",
    "NumPrimo = True\n",
    "\n",
    "if numero <= 1:\n",
    "    NumPrimo = False\n",
    "else:\n",
    "    for i in range(2, int(numero ** 0.5) + 1):\n",
    "        if numero % i == 0:\n",
    "            NumPrimo = False\n",
    "            break\n",
    "\n",
    "if NumPrimo:\n",
    "    print(f\"{numero} é um número primo.\")\n",
    "else:\n",
    "    print(f\"{numero} não é um número primo.\")\n"
   ]
  },
  {
   "cell_type": "code",
   "execution_count": null,
   "metadata": {},
   "outputs": [],
   "source": [
    "# 10 Inverter uma string\n",
    "\n",
    "texto = input('Digite Um Texto frase ou palavra e eu vou invertela pra você ==')\n",
    "print(texto[::-1])"
   ]
  },
  {
   "cell_type": "code",
   "execution_count": null,
   "metadata": {},
   "outputs": [],
   "source": [
    "# 11 Tabuada\n",
    "\n",
    "numero = int(input('Digite Um numero:'))\n",
    "print('Sua Tabuada de {} é \\n Por um= {}\\n Por dois= {}\\n Por tres= {}\\n Por quatro= {}\\n Por cinco= {}\\n Por seis= {}\\n Por sete= {}\\n Por oito= {}\\n Por nove= {} \\n Por dez= {}'.format(numero,numero*1,numero*2,numero*3,numero*4,numero*5,numero*6,numero*7,numero*8,numero*9,numero*10))"
   ]
  },
  {
   "cell_type": "code",
   "execution_count": null,
   "metadata": {},
   "outputs": [],
   "source": [
    "# 12 Contador de Strings\n",
    "texto = input('Digite uma palavra ou frase ==')\n",
    "tamanho =len(texto)\n",
    "print(f'Sua Frase Ou Palavra Contem {tamanho} Letras')\n"
   ]
  },
  {
   "cell_type": "code",
   "execution_count": null,
   "metadata": {},
   "outputs": [],
   "source": [
    "# 13 Soma dos elementos de uma lista \n",
    "lista_N = []\n",
    "lista_de_numeros = input('Digite Uma lista de Numeros Dando Espaço entre eles ')\n",
    "Converte_numero = lista_de_numeros.split()\n",
    "lista_N.append(Converte_numero)\n",
    "lista_N = [int(lista_de_numeros)for lista_de_numeros in Converte_numero]\n",
    "soma = sum(lista_N)\n",
    "\n",
    "print(f'A soma de todos os números da lista é == {soma}')\n"
   ]
  },
  {
   "cell_type": "code",
   "execution_count": null,
   "metadata": {},
   "outputs": [],
   "source": [
    "# 14 Encontrar o Maior número em uma lista \n",
    "lista_N = []\n",
    "lista_de_numeros = input('Digite Uma lista de Numeros Dando Espaço entre eles ')\n",
    "Converte_numero = lista_de_numeros.split()\n",
    "lista_N.append(Converte_numero)\n",
    "lista_N = [int(lista_de_numeros)for lista_de_numeros in Converte_numero]\n",
    "Maior_número = max(lista_N)\n",
    "print(Maior_número)\n"
   ]
  },
  {
   "cell_type": "code",
   "execution_count": null,
   "metadata": {},
   "outputs": [],
   "source": [
    "# 15 Números pares em uma lista\n",
    "\n",
    "def Números_Pares(lista):\n",
    "  Nun = [num for num in lista if num % 2 == 0]\n",
    "  return Nun\n",
    "lista = [80,50,7,99,154,23,42,7,5,1,2,12]\n",
    "\n",
    "resultado = Números_Pares(lista)\n",
    "\n",
    "print(f\"Os Seus Números Pares == {resultado}\")"
   ]
  },
  {
   "cell_type": "code",
   "execution_count": null,
   "metadata": {},
   "outputs": [],
   "source": [
    "# 16 Contagem Regresiva\n",
    "import time\n",
    "for i in range(10,-1,-1):\n",
    "  time.sleep(0.2)\n",
    "  print(i)\n"
   ]
  },
  {
   "cell_type": "code",
   "execution_count": null,
   "metadata": {},
   "outputs": [],
   "source": [
    "# 17 Calculando a Sequência de Fibonacci\n",
    "anterior = 0\n",
    "proxima = 1\n",
    "soma = 1\n",
    "for numero in range(0,11):\n",
    "    print(anterior)\n",
    "    soma = proxima + anterior\n",
    "    anterior = proxima\n",
    "    proxima = soma\n",
    "    "
   ]
  },
  {
   "cell_type": "code",
   "execution_count": 103,
   "metadata": {},
   "outputs": [
    {
     "name": "stdout",
     "output_type": "stream",
     "text": [
      "Caiu Cara\n"
     ]
    }
   ],
   "source": [
    "# 18 Simulação de Lançamento de moeda \n",
    "\n",
    "import random\n",
    "num = random.randint(1,2)\n",
    "if num == 1: print('Caiu Cara')\n",
    "elif num ==2: print('Caiu Coroa')"
   ]
  },
  {
   "cell_type": "code",
   "execution_count": 109,
   "metadata": {},
   "outputs": [
    {
     "name": "stdout",
     "output_type": "stream",
     "text": [
      "Sua Palavra e Um Palíndromo\n"
     ]
    }
   ],
   "source": [
    "# 19 Verificar Palíndromo\n",
    "texto = input('Digite Uma Palavra')\n",
    "troca = texto[::-1]\n",
    "if troca == texto: print('Sua Palavra e Um Palíndromo')\n",
    "else: print ('Sua Palavra Não é Um Palíndromo')\n"
   ]
  },
  {
   "cell_type": "code",
   "execution_count": 117,
   "metadata": {},
   "outputs": [
    {
     "name": "stdout",
     "output_type": "stream",
     "text": [
      "Você Acertou Era 5\n"
     ]
    }
   ],
   "source": [
    "# 20 Jogo de Adivinhação\n",
    "import random\n",
    "Num = random.randint(1,100)\n",
    "Tentativa = int(input('Tente Adivinhar Qual Numero Eu Estou Pensando'))\n",
    "if Tentativa == Num:print(f'Você Acertou Era {Num}')\n",
    "else:print(f'Você Errou Era {Num}')\n"
   ]
  }
 ],
 "metadata": {
  "kernelspec": {
   "display_name": "Python 3",
   "language": "python",
   "name": "python3"
  },
  "language_info": {
   "codemirror_mode": {
    "name": "ipython",
    "version": 3
   },
   "file_extension": ".py",
   "mimetype": "text/x-python",
   "name": "python",
   "nbconvert_exporter": "python",
   "pygments_lexer": "ipython3",
   "version": "3.8.10"
  }
 },
 "nbformat": 4,
 "nbformat_minor": 2
}
