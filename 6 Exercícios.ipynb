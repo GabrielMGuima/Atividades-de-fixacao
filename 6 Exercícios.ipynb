{
 "cells": [
  {
   "cell_type": "code",
   "execution_count": 2,
   "metadata": {},
   "outputs": [
    {
     "name": "stdout",
     "output_type": "stream",
     "text": [
      "2\n",
      "4\n",
      "6\n",
      "8\n",
      "10\n",
      "12\n",
      "14\n",
      "16\n",
      "18\n",
      "20\n"
     ]
    }
   ],
   "source": [
    "#QUESTÃO 1\n",
    "# Contando de 2 em 2\n",
    "\n",
    "for Num in range(2,21,2):\n",
    "  print(Num)\n"
   ]
  },
  {
   "cell_type": "code",
   "execution_count": 8,
   "metadata": {},
   "outputs": [
    {
     "name": "stdout",
     "output_type": "stream",
     "text": [
      "3\n",
      "6\n",
      "9\n",
      "12\n",
      "15\n"
     ]
    }
   ],
   "source": [
    "#QUESTÃO 2\n",
    "# Contando de 3 em 3\n",
    "\n",
    "for Num in range(3,16,3):\n",
    "    print(Num)"
   ]
  },
  {
   "cell_type": "code",
   "execution_count": 7,
   "metadata": {},
   "outputs": [
    {
     "name": "stdout",
     "output_type": "stream",
     "text": [
      "['Inglaterra', 'Japão', 'Panamá', 'Bolivia', 'Canadá', 'China', 'Mexico']\n"
     ]
    }
   ],
   "source": [
    "#QUESTÃO 3\n",
    "# Adicionando e Removendo itens em uma lista\n",
    "\n",
    "viagem = ['Japão','Panamá','Argentina','Bolivia','Canadá','China']\n",
    "viagem.insert(0,'Inglaterra')\n",
    "viagem.remove('Argentina')\n",
    "viagem.append('Mexico')\n",
    "print(viagem)"
   ]
  },
  {
   "cell_type": "code",
   "execution_count": 3,
   "metadata": {},
   "outputs": [
    {
     "name": "stdout",
     "output_type": "stream",
     "text": [
      "Média da turma: 6.08\n",
      "Alunos aprovados: 5\n",
      "Alunos reprovados: 8\n"
     ]
    }
   ],
   "source": [
    "#QUESTÃO 4\n",
    "# Calculando alunos Reprovador e aprovados \n",
    "\n",
    "notas = [0, 10, 10, 10, 9, 8, 5, 4, 2, 6, 6, 5, 4]\n",
    "aprovados = []\n",
    "reprovados = []\n",
    "\n",
    "total = 0\n",
    "for c in notas:\n",
    "    total += c\n",
    "media = total / len(notas)\n",
    "print(f'Média da turma: {media:.2f}')\n",
    "\n",
    "for c in notas:\n",
    "    if c < 7:\n",
    "        reprovados.append(c)\n",
    "    else:\n",
    "        aprovados.append(c)\n",
    "print(f'Alunos aprovados: {len(aprovados)}')\n",
    "print(f'Alunos reprovados: {len(reprovados)}')\n",
    "\n",
    "   "
   ]
  },
  {
   "cell_type": "code",
   "execution_count": 4,
   "metadata": {},
   "outputs": [
    {
     "name": "stdout",
     "output_type": "stream",
     "text": [
      "Hugo = 50\n",
      "Ignacio = 100\n",
      "Jony = 2\n",
      "Lion = 30\n",
      "Monica = 50\n",
      "Natalia = 3\n"
     ]
    }
   ],
   "source": [
    "#QUESTÃO 5\n",
    "# Direcionando Vendedores Pras Devidas Vendas \n",
    "\n",
    "vendedores = ['Hugo =','Ignacio =','Jony =','Lion =','Monica =','Natalia =']\n",
    "vendas = [50,100,2,30,50,3]\n",
    "print(vendedores[0],vendas[0])\n",
    "print(vendedores[1],vendas[1])\n",
    "print(vendedores[2],vendas[2])\n",
    "print(vendedores[3],vendas[3])\n",
    "print(vendedores[4],vendas[4])\n",
    "print(vendedores[5],vendas[5])\n",
    "\n"
   ]
  },
  {
   "cell_type": "code",
   "execution_count": 5,
   "metadata": {},
   "outputs": [
    {
     "name": "stdout",
     "output_type": "stream",
     "text": [
      "Alunos Aprovados:\n",
      "---------------\n",
      "Beltrano: 10\n",
      "Gerlano: 9\n",
      "Marlano: 8\n",
      "\n",
      "Alunos Reprovados:\n",
      "---------------\n",
      "Fulano: 0\n",
      "Cilano: 2\n",
      "Jesiano: 5\n"
     ]
    }
   ],
   "source": [
    "#QUESTÃO 6\n",
    "# Calculando alunos Reprovador e aprovados de cada aluno\n",
    "\n",
    "notas = [0, 2, 10, 9, 8, 5]\n",
    "alunos = ['Fulano', 'Cilano', 'Beltrano', 'Gerlano', 'Marlano', 'Jesiano']\n",
    "aprovados = []\n",
    "reprovados = []\n",
    "\n",
    "for a, n in zip(alunos, notas):\n",
    "    if n >= 7:\n",
    "        aprovados.append(a)\n",
    "        aprovados.append(n)\n",
    "    else:\n",
    "        reprovados.append(a)\n",
    "        reprovados.append(n)\n",
    "\n",
    "print('Alunos Aprovados:')\n",
    "print('-'*15)\n",
    "for c in range(0, len(aprovados), 2):\n",
    "    print(f'{aprovados[c]}: {aprovados[c + 1]}')\n",
    "\n",
    "print('\\nAlunos Reprovados:')\n",
    "print('-'*15)\n",
    "for c in range(0, len(reprovados), 2):\n",
    "    print(f'{reprovados[c]}: {reprovados[c + 1]}')"
   ]
  }
 ],
 "metadata": {
  "kernelspec": {
   "display_name": "Python 3",
   "language": "python",
   "name": "python3"
  },
  "language_info": {
   "codemirror_mode": {
    "name": "ipython",
    "version": 3
   },
   "file_extension": ".py",
   "mimetype": "text/x-python",
   "name": "python",
   "nbconvert_exporter": "python",
   "pygments_lexer": "ipython3",
   "version": "3.8.10"
  }
 },
 "nbformat": 4,
 "nbformat_minor": 2
}
