{
 "cells": [
  {
   "cell_type": "code",
   "execution_count": 67,
   "metadata": {},
   "outputs": [
    {
     "name": "stdout",
     "output_type": "stream",
     "text": [
      "Cidade maravilhosa! Sempre quis visitar Japão\n"
     ]
    }
   ],
   "source": [
    "# Questão 1\n",
    "#Desenvolva um programa que solicite ao usuário sua cidade natal:\n",
    "#Após receber a resposta, o programa deve exibir uma mensagem relacionada à cidade Fornecida\n",
    "#Cidade maravilhosa! Sempre quis visitar [Nome da Cidade]!\n",
    "\n",
    "cidade = input('Em qual cidade você mora ?')\n",
    "print ('Cidade maravilhosa! Sempre quis visitar',cidade)"
   ]
  },
  {
   "cell_type": "code",
   "execution_count": 68,
   "metadata": {},
   "outputs": [
    {
     "name": "stdout",
     "output_type": "stream",
     "text": [
      "2970.0000000000005\n"
     ]
    }
   ],
   "source": [
    "#Questão 2\n",
    "#Você foi contratado para desenvolver um programa que ajude o departamento de RH de uma\n",
    "#empresa a calcular os bônus de salário para vendedores com base no número de suas vendas\n",
    "#mensais. O salário é de R$ 2700.\n",
    "#As regras para o cálculo do novo salário são as seguintes:\n",
    "#Se o vendedor realizar entre 100 e menos que 300, ele receberá um bônus de 10% no salário.\n",
    "#Se o vendedor realizar acima de 300 vendas, ele receberá um bônus de 15% no salário.\n",
    "#Caso contrário, o salário do vendedor permanecerá o mesmo salário\n",
    "\n",
    "salario = 2700\n",
    "soma_10 = (salario) *1.1\n",
    "Soma_15 = (salario) *1.15\n",
    "vendas = int(input('Quantas vendas o funcionario fez esse mês ?'))\n",
    "if vendas >= 100 and vendas <= 299:\n",
    " print(soma_10)\n",
    "\n",
    "elif vendas >= 300:\n",
    " print(Soma_15)\n",
    " "
   ]
  },
  {
   "cell_type": "code",
   "execution_count": 92,
   "metadata": {},
   "outputs": [
    {
     "name": "stdout",
     "output_type": "stream",
     "text": [
      "Parabéns você Passou!!\n",
      "Nota-Final= 8.0\n"
     ]
    }
   ],
   "source": [
    "#Questão 3\n",
    "#Crie um programa o qual o professor digita a nota do aluno de P1 (primeira prova) e P2(segunda prova).\n",
    "#Caso não alcance média 7 das primeiras provas.Faça P3 (prova final)\n",
    "#Se a média for igual ou maior que 7, deverá informar que este aluno foi aprovado.\n",
    "#Se a nota foi menor que 7, o aluno vai estar na prova final.\n",
    "#Na prova final, ele tirar nota maior ou igual 6, ele estará aprovado. Se tirar abaixo, será reprovado.\n",
    "\n",
    "p1 = int(input('Qual a Nota da P1 ?')) \n",
    "p2 = int(input('Qual a Nota da p2 ?'))\n",
    "soma = (p1 + p2) /2\n",
    "\n",
    "if soma >= 7: print ('Parabéns você Passou!!')\n",
    "\n",
    "else: \n",
    " prova_final = int(input('Vejo que você precisou fazer a Prova final, quanto você tiro ?'))\n",
    "\n",
    " if prova_final >= 7: print ('Parabéns pela sua aprovação!!') \n",
    " else:print('Poxa que pena você foi reprovado, estude mais na proxima vez')\n",
    " \n",
    "print ('Nota-Final=',(soma))"
   ]
  },
  {
   "cell_type": "code",
   "execution_count": 146,
   "metadata": {},
   "outputs": [
    {
     "name": "stdout",
     "output_type": "stream",
     "text": [
      "<class 'str'>\n",
      "<class 'str'>\n",
      "<class 'bool'>\n",
      "<class 'float'>\n",
      "<class 'int'>\n"
     ]
    }
   ],
   "source": [
    "#Questão 4\n",
    "#Desenvolva um programa em Python que, para cada uma das variáveis fornecidas abaixo,\n",
    "#imprima o nome da variável seguido de seu tipo de dado. Por exemplo, para a variável a , o\n",
    "#programa deve imprimir: \n",
    "#a: <tipo_de_dado> .\n",
    "#a = 'Ciclano' \n",
    "#b = '5'\n",
    "#c = True\n",
    "#d = 22.0\n",
    "#e = 12\n",
    "\n",
    "a = 'clicano'\n",
    "print(type(a))\n",
    "\n",
    "b = '5'\n",
    "print(type(b))\n",
    "\n",
    "c = True\n",
    "print(type(c))\n",
    "\n",
    "d = 22.0\n",
    "print(type(d))\n",
    "\n",
    "e = 12\n",
    "print(type(e))\n",
    "\n",
    "\n",
    "\n"
   ]
  },
  {
   "cell_type": "code",
   "execution_count": 151,
   "metadata": {},
   "outputs": [
    {
     "name": "stdout",
     "output_type": "stream",
     "text": [
      "Os boneco que custavão 120 agora custam 144.0\n"
     ]
    }
   ],
   "source": [
    "#Questão 5\n",
    "#Lançado uma série japonesa em animação , em que os personagens de diferentes etinias lutam\n",
    "#com armaduras referente a diferentes constelações lutam para proteger uma deusa grega da guerra.\n",
    "#Chegam novos brinquedos da série animada e o lojista resolve aplicar um aumento de 20% nos\n",
    "#bonecos da série que custam 120 reais. Crie um programa que realize forneça o valor com o aumento.\n",
    "\n",
    "boneco = 120\n",
    "bonus = (boneco)*1.2\n",
    "print('Os boneco que custavão 120 agora custam',(bonus))"
   ]
  },
  {
   "cell_type": "code",
   "execution_count": 166,
   "metadata": {},
   "outputs": [
    {
     "name": "stdout",
     "output_type": "stream",
     "text": [
      "A soma dos valores é 147\n"
     ]
    }
   ],
   "source": [
    "#Questão 6\n",
    "#Faça o somátório dos valores a seguir, com um resultado inteiro:\n",
    "#valor_a = 15\n",
    "#valor_b = 32.0\n",
    "#valor_c = 100\n",
    "\n",
    "valor_a = 15\n",
    "valor_b = 32.0\n",
    "valor_c = 100\n",
    "soma = int((valor_a) + (valor_b) + (valor_c))\n",
    "print('A soma dos valores é',(soma))"
   ]
  },
  {
   "cell_type": "code",
   "execution_count": 222,
   "metadata": {},
   "outputs": [
    {
     "name": "stdout",
     "output_type": "stream",
     "text": [
      "Buzz\n"
     ]
    }
   ],
   "source": [
    "#Questão 7\n",
    "#Crie um programa que. Se for um número divisivel por 3 é impresso: \"Fizz\".\n",
    "#Se for divisível por 5 é impresso: \"Buzz\"Mas se for divísivel por 3 e 5 ao mesmo tempo deve imprimir:\"FizzBuzz\"\n",
    "\n",
    "numero = int(input('Digite algum numero: '))\n",
    "if numero %3 == 0 and numero %5 == 0:\n",
    " print('FizzBuzz')\n",
    "\n",
    "elif numero %3 == 0:\n",
    " print('Buzz')\n",
    "\n",
    "elif numero %5 == 0:\n",
    "  print('Fizz')\n",
    " "
   ]
  }
 ],
 "metadata": {
  "kernelspec": {
   "display_name": "base",
   "language": "python",
   "name": "python3"
  },
  "language_info": {
   "codemirror_mode": {
    "name": "ipython",
    "version": 3
   },
   "file_extension": ".py",
   "mimetype": "text/x-python",
   "name": "python",
   "nbconvert_exporter": "python",
   "pygments_lexer": "ipython3",
   "version": "3.11.7"
  }
 },
 "nbformat": 4,
 "nbformat_minor": 2
}
