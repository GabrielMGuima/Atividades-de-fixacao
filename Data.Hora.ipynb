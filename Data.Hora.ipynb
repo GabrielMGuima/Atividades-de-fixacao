{
 "cells": [
  {
   "cell_type": "code",
   "execution_count": null,
   "metadata": {},
   "outputs": [],
   "source": [
    "import datetime # Importador de Data e Hora no Pythom\n",
    "\n",
    "Data = datetime.date(2024,8,10) # Modelo Padrão pra passar Data\n",
    "D_D = datetime.date.today() # Codigo para informar a data de agora baseado no seu computador\n",
    "Data_hora = datetime.datetime (2024,7,5,19,55,20) # codigo de data e hora a sua escolha \n",
    "D_H = datetime.datetime.today() # codigo para informar a data e hora atual\n",
    "Hora = datetime.time(22,30,40) # codigo para informa hora a sua escolha\n",
    "H_a = datetime.datetime.now() # mostra Data e Hora atual\n",
    "\n",
    "print(f'''\n",
    "Data da minha escolha = {Data}\n",
    "Data De Agora = {D_D}\n",
    "Hora da minha escolha = {Hora}\n",
    "Hora agora = {H_a.time()} # Usando .time() Mostra somente a hora\n",
    "Hora e Data minha escolha = {Data_hora}\n",
    "Data e Hora Agora = {D_H}\n",
    "''')\n",
    "\n"
   ]
  },
  {
   "cell_type": "code",
   "execution_count": null,
   "metadata": {},
   "outputs": [],
   "source": [
    "# Exemplo de código com Pytz\n",
    "\n",
    "import datetime\n",
    "import pytz\n",
    "\n",
    "D = datetime.datetime.now(pytz.timezone|('America/Rio_Janeiro'))\n",
    "print(D)\n",
    "# Não esta funcionando por não ter instalado o Pytz"
   ]
  },
  {
   "cell_type": "code",
   "execution_count": 5,
   "metadata": {},
   "outputs": [
    {
     "name": "stdout",
     "output_type": "stream",
     "text": [
      "2024-07-03 17:36:04.024091+02:00\n",
      "2024-07-03 12:36:04.024091-03:00\n"
     ]
    }
   ],
   "source": [
    "#Exemplo de codigo sem Pytz\n",
    "\n",
    "from datetime import datetime, timedelta, timezone\n",
    "\n",
    "data_oslo = datetime.now(timezone(timedelta(hours=2)))\n",
    "data_SP = datetime.now(timezone(timedelta(hours=-3)))\n",
    "\n",
    "print(data_oslo)\n",
    "print(data_SP)"
   ]
  }
 ],
 "metadata": {
  "kernelspec": {
   "display_name": "Python 3",
   "language": "python",
   "name": "python3"
  },
  "language_info": {
   "codemirror_mode": {
    "name": "ipython",
    "version": 3
   },
   "file_extension": ".py",
   "mimetype": "text/x-python",
   "name": "python",
   "nbconvert_exporter": "python",
   "pygments_lexer": "ipython3",
   "version": "3.8.10"
  }
 },
 "nbformat": 4,
 "nbformat_minor": 2
}
